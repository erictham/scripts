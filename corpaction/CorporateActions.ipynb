{
 "cells": [
  {
   "cell_type": "markdown",
   "metadata": {},
   "source": [
    "# Corporate actions tracker"
   ]
  },
  {
   "cell_type": "markdown",
   "metadata": {},
   "source": [
    "Function: This corporate actions app aggregates the dividend actions for a portfolio. It is an initial step towards market surveillance and risk management.\n",
    "\n",
    "This jupyter notebook lists out the steps towards inputting a hypothetical client’s portfolios into DataFusion. It forms part of the training and familiarization session for a practical use case of DataFusion. Python program is used for the automation of data input and linking in DataFusion.\n"
   ]
  },
  {
   "cell_type": "markdown",
   "metadata": {},
   "source": [
    "## Procedure"
   ]
  },
  {
   "cell_type": "markdown",
   "metadata": {},
   "source": [
    "The first step is the input of data into DataFusion. This needs to generate firstly a token under the OAuth2 security protocol. The token lasts for only 60 minutes without usage. The postcurl automates the retrieval of tokens from the DataFusion server. Please enter your own userid and password. "
   ]
  },
  {
   "cell_type": "code",
   "execution_count": 45,
   "metadata": {
    "collapsed": false
   },
   "outputs": [
    {
     "name": "stdout",
     "output_type": "stream",
     "text": [
      "Token generated is slieekkma3u657n0od5mka23uub2gm43\n"
     ]
    }
   ],
   "source": [
    "# -*- coding: utf-8 -*-\n",
    "\n",
    "import requests, json, os\n",
    "from ast import literal_eval\n",
    "from requests.packages.urllib3.exceptions import InsecureRequestWarning\n",
    "requests.packages.urllib3.disable_warnings(InsecureRequestWarning)\n",
    "\n",
    "def htmlparse(url):\n",
    "    urlr=re.sub(':', '%3A',url)\n",
    "    urlr=re.sub('/', '%2F',urlr)\n",
    "    urlr=re.sub(' ', '%20',urlr)\n",
    "    urlr=re.sub('#', '%23',urlr)\n",
    "    return urlr\n",
    "\n",
    "def postcurl():\n",
    "    url = \"https://dds-test.thomsonreuters.com/app/oauth/token\"\n",
    "    headers = {'content-type': 'application/json'}\n",
    "    data = json.dumps({\"username\":\"eric.tham@thomsonreuters.com\", \"password\":\"datafusion\"})\n",
    "    ans = requests.post(url, headers= headers, data =data, verify = False )\n",
    "    ans = literal_eval(ans.content)\n",
    "    \n",
    "    return ans['access_token']\n",
    "\n",
    "token = postcurl()\n",
    "print \"Token generated is \" + token\n",
    "\n",
    "def posturl(url):\n",
    "    headers = {'Content-Type': 'application/json',  'Authorization' : 'Bearer ' + token }\n",
    "    response = requests.post(url, headers= headers, verify = False )\n",
    "    \n",
    "    print \"Response code is \" + str(response.status_code) # response code if ok should be 2xx \n",
    "    print response.text\n"
   ]
  },
  {
   "cell_type": "markdown",
   "metadata": {},
   "source": [
    "Generate a contextID. The context is like a data source in DataFusion. It encapsulates all the entities, predicates for a particular purpose."
   ]
  },
  {
   "cell_type": "code",
   "execution_count": null,
   "metadata": {
    "collapsed": true
   },
   "outputs": [],
   "source": [
    "contextname = \"TestUse3\" # please enter a new context name\n",
    "url = \"https://dds-test.thomsonreuters.com/app/api/context?name=\" + contextname\n",
    "print url #\n",
    "posturl(url)"
   ]
  },
  {
   "cell_type": "markdown",
   "metadata": {},
   "source": [
    "The context creation needs to be done one time through the API https://dds-test.thomsonreuters.com/app/api#!/context/postContext"
   ]
  },
  {
   "cell_type": "markdown",
   "metadata": {},
   "source": [
    "The next step involves the portfolio creation. The portfolio details are as below:\n",
    "    \n",
    "Account\tAcc_Open\tAcc_Close\tAcc_Type\tAcc_Ccy\tAcc_limit\tAcc_limit_ccy\n",
    "ACC_TRDSG_001\t2016-01-23\t2030-01-01\tClient\tMulti\t10000000\tUSD\n",
    "ACC_TRDSG_002\t2016-01-24\t2030-01-02\tClient\tMulti\t500000\tUSD\n",
    "ACC_TRDSG_003\t2015-01-25\t2030-01-03\tProp\tHKD\t4000000\tUSD\n",
    "\n",
    "This is used to create the attached create_account.nt file. An example for #ACC_TRDSG_001 is below. \n",
    "\n",
    "<http://sg.thomsonreuters.com/account/#ACC_TRDSG_001> <http://www.w3.org/1999/02/22-rdf-syntax-ns#type> <http://rdf.entagen.com/ns/type/account> . \n",
    "<http://sg.thomsonreuters.com/account/#ACC_TRDSG_001> <http://www.w3.org/2000/01/rdf-schema#label> \"ACC_TRDSG_001\" .\n",
    "<http://sg.thomsonreuters.com/account/#ACC_TRDSG_001> <http://sg.thomsonreuters.com/account/pred/acc_open> \"2016-01-23\" .\n",
    "<http://sg.thomsonreuters.com/account/#ACC_TRDSG_001> <http://sg.thomsonreuters.com/account/pred/acc_close> \"2030-01-01\" .\n",
    "<http://sg.thomsonreuters.com/account/#ACC_TRDSG_001> <http://sg.thomsonreuters.com/account/pred/acc_type> \"Client\" .\n",
    "<http://sg.thomsonreuters.com/account/#ACC_TRDSG_001> <http://sg.thomsonreuters.com/account/pred/acc_ccy> \"Multi\" .\n",
    "\n",
    "This is an .nt format for RDF files. The first triple indicates the entity type for the #ACC_TRDSG_001 which follows standard RDF1.1 syntax. In this case, it belongs to the Master entity type \"Account\". The second states the label used. The rest of the triples are properties of the entity. Creation of the account may be done through the API https://dds-test.thomsonreuters.com/app/api#!/context/insertFile or through the postfile(url, datafile) above."
   ]
  },
  {
   "cell_type": "code",
   "execution_count": 67,
   "metadata": {
    "collapsed": false
   },
   "outputs": [
    {
     "name": "stdout",
     "output_type": "stream",
     "text": [
      "Present directory is = C:\\Users\\u6038155\\Documents\\Products\\DataFusion\\Corporate Action\n",
      "Response code is 200\n",
      "{\"id\":154,\"name\":\"CorpAction1\",\"uri\":\"http://rdf.entagen.com/context/1474011354459/CorpAction1\",\"lastBatchReceived\":null,\"predicates\":[{\"id\":17638,\"uri\":\"http://sg.thomsonreuters.com/account/pred/acc_close\"},{\"id\":17639,\"uri\":\"http://www.w3.org/1999/02/22-rdf-syntax-ns#type\"},{\"id\":17640,\"uri\":\"http://www.w3.org/2000/01/rdf-schema#label\"},{\"id\":17643,\"uri\":\"http://sg.thomsonreuters.com/account/pred/acc_open\"},{\"id\":17642,\"uri\":\"http://sg.thomsonreuters.com/account/pred/acc_type\"},{\"id\":17641,\"uri\":\"http://sg.thomsonreuters.com/account/pred/acc_ccy\"}],\"rdfTypes\":[{\"id\":2377,\"uri\":\"http://rdf.entagen.com/ns/type/account\",\"shortName\":\"account\",\"totalCount\":3,\"mappedLabelCount\":1,\"mappedStitchValueCount\":0,\"mappedEntityTypeId\":23}],\"remoteContextUri\":null,\"jdbcRepository\":null}\n"
     ]
    }
   ],
   "source": [
    "def postfile(url, datafile, token):   \n",
    "    headers = {'Authorization' : 'Bearer ' + token }\n",
    "    \n",
    "    files = {'file': ('datafile.csv', datafile, 'multipart/form-data')}\n",
    "    response = requests.post(url, headers = headers, files = files,  verify = False) #, data =values)\n",
    "    print \"Response code is \" + str(response.status_code)\n",
    "    print response.text\n",
    "    return response\n",
    "\n",
    "cwd = os.getcwd()\n",
    "fname = cwd + \"\\\\create_account.nt\"\n",
    "fhand = open(fname, \"rb\")\n",
    "context_id = 154    #CorpAction1 ID\n",
    "data = fhand\n",
    "print \"Present directory is = \" + cwd\n",
    "url_postfile = \"https://dds-test.thomsonreuters.com/app/api/context/\" + str(context_id) + \"/rdf/file?importFormat=N-Triples\"\n",
    "res = postfile(url_postfile, data , token)\n",
    "fhand.close()"
   ]
  },
  {
   "cell_type": "markdown",
   "metadata": {},
   "source": [
    "Check the status of the import of the rdf file, by using a GET command. "
   ]
  },
  {
   "cell_type": "code",
   "execution_count": 60,
   "metadata": {
    "collapsed": false
   },
   "outputs": [
    {
     "name": "stdout",
     "output_type": "stream",
     "text": [
      "Response code is 200\n",
      "{\"completed\":\"100\",\"status\":\"100% -- Saving context metadata...\"}\n"
     ]
    },
    {
     "data": {
      "text/plain": [
       "<Response [200]>"
      ]
     },
     "execution_count": 60,
     "metadata": {},
     "output_type": "execute_result"
    }
   ],
   "source": [
    "def geturl(url, token):\n",
    "    headers = {'Authorization' : 'Bearer ' + token }\n",
    "    response = requests.get(url, headers = headers, verify = False) \n",
    "    print \"Response code is \" + str(response.status_code)\n",
    "    print response.text\n",
    "    return response\n",
    "\n",
    "url = \"https://dds-test.thomsonreuters.com/app/api/context/154/rdf/status\"\n",
    "response = geturl(url, token)"
   ]
  },
  {
   "cell_type": "markdown",
   "metadata": {},
   "source": [
    "The portfolio accounts are now created in DataFusion. The next step is to create the corporate actions entities. These are linked to the instruments entities. An example of the triples are:\n",
    "\n",
    "<http://sg.thomsonreuters.com/corpaction/#8590932301> <http://www.w3.org/1999/02/22-rdf-syntax-ns#type> <http://rdf.entagen.com/ns/type/corporateaction> .\n",
    "<http://sg.thomsonreuters.com/corpaction/#8590932301> <http://www.w3.org/2000/01/rdf-schema#label> \"Apple Ord Shs CorporateAction\" .\n",
    "<http://sg.thomsonreuters.com/corpaction/#8590932301> <https://permid.org/PermIdLink> <https://permid.org/1-8590932301> .\n",
    "\n",
    "These are the triples for Apple Ord Shs corporate action. These are stored in the create_corporate.nt file and created from the corporate_action.csv through the python function below. THe first two triples are standard identification for the type definition and label identification. The third triple links the corporate action to the correct instrument."
   ]
  },
  {
   "cell_type": "code",
   "execution_count": 70,
   "metadata": {
    "collapsed": false
   },
   "outputs": [
    {
     "name": "stdout",
     "output_type": "stream",
     "text": [
      "File corporate_action.nt successfully created\n"
     ]
    }
   ],
   "source": [
    "import pandas as pd\n",
    "def createCorpAction(fname):\n",
    "    fhand = open(fname)\n",
    "    df = pd.read_csv(fhand, sep=\",\")\n",
    "    suburi = \"<http://sg.thomsonreuters.com/corpaction/\"\n",
    "    \n",
    "    df_permid = df[[\"PermId\", \"Instruments\"]].drop_duplicates()\n",
    "    rdf_1 = \"\"\n",
    "    \n",
    "    for rid, val in df_permid.iterrows():\n",
    "        rdftemp = suburi + \"#\" + str(val[\"PermId\"]) + \"> \"\n",
    "        rdftemp = rdftemp + \"<http://www.w3.org/1999/02/22-rdf-syntax-ns#type> \"\n",
    "        rdftemp = rdftemp + \"<http://rdf.entagen.com/ns/type/corporateaction> .\\n\"\n",
    "        \n",
    "        rdftemp = rdftemp + suburi + \"#\" + str(val[\"PermId\"]) + \"> \"\n",
    "        rdftemp = rdftemp + \"<http://www.w3.org/2000/01/rdf-schema#label> \"\n",
    "        rdftemp = rdftemp + \"\\\"\" + val[\"Instruments\"] + \" CorporateAction\" + \"\\\" .\\n\"\n",
    "        \n",
    "        rdftemp = rdftemp + suburi + \"#\" + str(val[\"PermId\"]) + \"> \"\n",
    "        rdftemp = rdftemp + \"<https://permid.org/PermIdLink> \"  # change this to \n",
    "        # rdftemp = rdftemp + \"<http://instru.thomsonreuters.com/pred/CorporateActionLink> \"\n",
    "        rdftemp = rdftemp + \"<https://permid.org/1-\" + str(val[\"PermId\"]) + \"> .\\n\"\n",
    "        \n",
    "        rdf_1 = rdf_1 + rdftemp\n",
    "    \n",
    "    rdf_2 = \"\"\n",
    "    for rid, val in df.iterrows():\n",
    "        rdftemp = rdftemp + suburi + \"#\" + str(val[\"PermId\"]) + \"> \"\n",
    "        rdftemp = rdftemp + \"<http://account.thomsonreuters.com/CorporateActionType> \"\n",
    "        rdftemp = rdftemp + \"\\\"\" + str(val[\"CorpActionType\"]) + \"\\\" .\\n\"\n",
    "\n",
    "        rdftemp = rdftemp + suburi + \"#\" + str(val[\"PermId\"]) + \"> \"\n",
    "        rdftemp = rdftemp + \"<http://account.thomsonreuters.com/\" + str(val[\"Date\"]) + \"/CorporateActionDate> \" \n",
    "        rdftemp = rdftemp + \"\\\"\" + str(val[\"Date\"]) + \"\\\" .\\n\"        \n",
    "        \n",
    "        rdf_2 = rdf_2 + rdftemp\n",
    "    \n",
    "    return rdf_1 + \"\\n\" + rdf_2\n",
    "\n",
    "fname = cwd + \"\\\\corporate_action.csv\"\n",
    "fout = cwd + \"\\\\corporate_action.nt\"\n",
    "fhand = open(fname)\n",
    "rdf = createCorpAction(fname)\n",
    "\n",
    "rdfout = open(fout, \"w\")\n",
    "rdfout.write(rdf)\n",
    "\n",
    "fhand.close()\n",
    "print \"File corporate_action.nt successfully created\""
   ]
  },
  {
   "cell_type": "markdown",
   "metadata": {},
   "source": [
    "The corporate_action.net is then input into DataFusion."
   ]
  },
  {
   "cell_type": "code",
   "execution_count": 72,
   "metadata": {
    "collapsed": false
   },
   "outputs": [
    {
     "name": "stdout",
     "output_type": "stream",
     "text": [
      "Response code is 200\n",
      "{\"id\":154,\"name\":\"CorpAction1\",\"uri\":\"http://rdf.entagen.com/context/1474011354459/CorpAction1\",\"lastBatchReceived\":null,\"predicates\":[{\"id\":17658,\"uri\":\"http://account.thomsonreuters.com/2016-10-16/CorporateActionDate\"},{\"id\":17641,\"uri\":\"http://sg.thomsonreuters.com/account/pred/acc_ccy\"},{\"id\":17642,\"uri\":\"http://sg.thomsonreuters.com/account/pred/acc_type\"},{\"id\":17662,\"uri\":\"http://account.thomsonreuters.com/2016-10-19/CorporateActionDate\"},{\"id\":17643,\"uri\":\"http://sg.thomsonreuters.com/account/pred/acc_open\"},{\"id\":17645,\"uri\":\"http://account.thomsonreuters.com/2016-10-27/CorporateActionDate\"},{\"id\":17646,\"uri\":\"http://account.thomsonreuters.com/2016-10-25/CorporateActionDate\"},{\"id\":17652,\"uri\":\"http://account.thomsonreuters.com/2016-10-28/CorporateActionDate\"},{\"id\":17660,\"uri\":\"http://account.thomsonreuters.com/2016-10-22/CorporateActionDate\"},{\"id\":17661,\"uri\":\"http://account.thomsonreuters.com/2016-10-24/CorporateActionDate\"},{\"id\":17639,\"uri\":\"http://www.w3.org/1999/02/22-rdf-syntax-ns#type\"},{\"id\":17647,\"uri\":\"http://account.thomsonreuters.com/2016-10-31/CorporateActionDate\"},{\"id\":17655,\"uri\":\"http://account.thomsonreuters.com/2016-10-30/CorporateActionDate\"},{\"id\":17650,\"uri\":\"http://account.thomsonreuters.com/2016-10-15/CorporateActionDate\"},{\"id\":17648,\"uri\":\"http://account.thomsonreuters.com/2016-10-21/CorporateActionDate\"},{\"id\":17640,\"uri\":\"http://www.w3.org/2000/01/rdf-schema#label\"},{\"id\":17644,\"uri\":\"http://account.thomsonreuters.com/2016-10-29/CorporateActionDate\"},{\"id\":17657,\"uri\":\"http://account.thomsonreuters.com/2016-10-26/CorporateActionDate\"},{\"id\":17649,\"uri\":\"http://account.thomsonreuters.com/2016-10-17/CorporateActionDate\"},{\"id\":17651,\"uri\":\"http://account.thomsonreuters.com/2016-10-23/CorporateActionDate\"},{\"id\":17638,\"uri\":\"http://sg.thomsonreuters.com/account/pred/acc_close\"},{\"id\":17654,\"uri\":\"http://account.thomsonreuters.com/2016-10-18/CorporateActionDate\"},{\"id\":17659,\"uri\":\"https://permid.org/PermIdLink\"},{\"id\":17656,\"uri\":\"http://account.thomsonreuters.com/2016-10-20/CorporateActionDate\"},{\"id\":17653,\"uri\":\"http://account.thomsonreuters.com/CorporateActionType\"}],\"rdfTypes\":[{\"id\":2377,\"uri\":\"http://rdf.entagen.com/ns/type/account\",\"shortName\":\"account\",\"totalCount\":3,\"mappedLabelCount\":1,\"mappedStitchValueCount\":0,\"mappedEntityTypeId\":23},{\"id\":2378,\"uri\":\"http://rdf.entagen.com/ns/type/corporateaction\",\"shortName\":\"corporateaction\",\"totalCount\":14,\"mappedLabelCount\":1,\"mappedStitchValueCount\":0,\"mappedEntityTypeId\":null}],\"remoteContextUri\":null,\"jdbcRepository\":null}\n"
     ]
    }
   ],
   "source": [
    "rdfout = open(fout, \"r\")\n",
    "res = postfile(url_postfile, rdfout , token)\n",
    "rdfout.close()"
   ]
  },
  {
   "cell_type": "markdown",
   "metadata": {},
   "source": [
    "At this juncture, we have created the accounts and the corporate actions. The corporate actions are also linked to the instruments through a predicate. We further illustrate how to enter additional properties for an existing instrument. \n",
    "<img src=\"images/instrument_addppty.JPG\"> \n",
    "As shown here, the existing instrument does not have ccy and price properties. It has also been linked to a corporate action."
   ]
  },
  {
   "cell_type": "markdown",
   "metadata": {},
   "source": [
    "The ccy and prices are inputted through posting the add_instru_details.nt file. \n",
    "\n",
    "<https://permid.org/1-8590932301> <http://instru.thomsonreuters.com/pred/ccy> \"USD\".\n",
    "<https://permid.org/1-8590932301> <http://instru.thomsonreuters.com/pred/price> \"10.4\"."
   ]
  },
  {
   "cell_type": "code",
   "execution_count": 74,
   "metadata": {
    "collapsed": false
   },
   "outputs": [
    {
     "name": "stdout",
     "output_type": "stream",
     "text": [
      "Response code is 200\n",
      "{\"id\":154,\"name\":\"CorpAction1\",\"uri\":\"http://rdf.entagen.com/context/1474011354459/CorpAction1\",\"lastBatchReceived\":null,\"predicates\":[{\"id\":17652,\"uri\":\"http://account.thomsonreuters.com/2016-10-28/CorporateActionDate\"},{\"id\":17654,\"uri\":\"http://account.thomsonreuters.com/2016-10-18/CorporateActionDate\"},{\"id\":17641,\"uri\":\"http://sg.thomsonreuters.com/account/pred/acc_ccy\"},{\"id\":17658,\"uri\":\"http://account.thomsonreuters.com/2016-10-16/CorporateActionDate\"},{\"id\":17662,\"uri\":\"http://account.thomsonreuters.com/2016-10-19/CorporateActionDate\"},{\"id\":17639,\"uri\":\"http://www.w3.org/1999/02/22-rdf-syntax-ns#type\"},{\"id\":17638,\"uri\":\"http://sg.thomsonreuters.com/account/pred/acc_close\"},{\"id\":17660,\"uri\":\"http://account.thomsonreuters.com/2016-10-22/CorporateActionDate\"},{\"id\":17645,\"uri\":\"http://account.thomsonreuters.com/2016-10-27/CorporateActionDate\"},{\"id\":17655,\"uri\":\"http://account.thomsonreuters.com/2016-10-30/CorporateActionDate\"},{\"id\":17647,\"uri\":\"http://account.thomsonreuters.com/2016-10-31/CorporateActionDate\"},{\"id\":17653,\"uri\":\"http://account.thomsonreuters.com/CorporateActionType\"},{\"id\":17644,\"uri\":\"http://account.thomsonreuters.com/2016-10-29/CorporateActionDate\"},{\"id\":17642,\"uri\":\"http://sg.thomsonreuters.com/account/pred/acc_type\"},{\"id\":17657,\"uri\":\"http://account.thomsonreuters.com/2016-10-26/CorporateActionDate\"},{\"id\":17643,\"uri\":\"http://sg.thomsonreuters.com/account/pred/acc_open\"},{\"id\":17646,\"uri\":\"http://account.thomsonreuters.com/2016-10-25/CorporateActionDate\"},{\"id\":17648,\"uri\":\"http://account.thomsonreuters.com/2016-10-21/CorporateActionDate\"},{\"id\":17650,\"uri\":\"http://account.thomsonreuters.com/2016-10-15/CorporateActionDate\"},{\"id\":17649,\"uri\":\"http://account.thomsonreuters.com/2016-10-17/CorporateActionDate\"},{\"id\":17656,\"uri\":\"http://account.thomsonreuters.com/2016-10-20/CorporateActionDate\"},{\"id\":17651,\"uri\":\"http://account.thomsonreuters.com/2016-10-23/CorporateActionDate\"},{\"id\":17640,\"uri\":\"http://www.w3.org/2000/01/rdf-schema#label\"},{\"id\":17659,\"uri\":\"https://permid.org/PermIdLink\"},{\"id\":17661,\"uri\":\"http://account.thomsonreuters.com/2016-10-24/CorporateActionDate\"}],\"rdfTypes\":[{\"id\":2378,\"uri\":\"http://rdf.entagen.com/ns/type/corporateaction\",\"shortName\":\"corporateaction\",\"totalCount\":14,\"mappedLabelCount\":1,\"mappedStitchValueCount\":0,\"mappedEntityTypeId\":null},{\"id\":2377,\"uri\":\"http://rdf.entagen.com/ns/type/account\",\"shortName\":\"account\",\"totalCount\":3,\"mappedLabelCount\":1,\"mappedStitchValueCount\":0,\"mappedEntityTypeId\":23}],\"remoteContextUri\":null,\"jdbcRepository\":null}\n"
     ]
    }
   ],
   "source": [
    "fname = cwd + \"\\\\add_instru_details.nt\"\n",
    "rdf = open(fname, \"r\")\n",
    "res = postfile(url_postfile, rdf , token)\n",
    "rdf.close()"
   ]
  },
  {
   "cell_type": "markdown",
   "metadata": {},
   "source": [
    "The next stage is to enter the instrument records for a portfolio. For eg, portfolio account #ACC_TRDSG_001 has the following instruments. The triples only identify the instrument records inside the portfolio. \n",
    "The quantity and the date open/ closed still needs to be input by annotation features of the predicate. \n",
    "<http://sg.thomsonreuters.com/account/#ACC_TRDSG_001> <http://pred.thomsonreuters.com/account/trades> <https://permid.org/1-8590932301> .\n",
    "<http://sg.thomsonreuters.com/account/#ACC_TRDSG_001> <http://pred.thomsonreuters.com/account/trades> <https://permid.org/1-21475210032> .\n",
    "<http://sg.thomsonreuters.com/account/#ACC_TRDSG_001> <http://pred.thomsonreuters.com/account/trades> <https://permid.org/1-8591112257> .\n",
    "<http://sg.thomsonreuters.com/account/#ACC_TRDSG_001> <http://pred.thomsonreuters.com/account/trades> <https://permid.org/1-8590934012> .\n",
    "<http://sg.thomsonreuters.com/account/#ACC_TRDSG_001> <http://pred.thomsonreuters.com/account/trades> <https://permid.org/1-21475875541> .\n",
    "<http://sg.thomsonreuters.com/account/#ACC_TRDSG_001> <http://pred.thomsonreuters.com/account/trades> <https://permid.org/1-8590928320> .\n",
    "<http://sg.thomsonreuters.com/account/#ACC_TRDSG_001> <http://pred.thomsonreuters.com/account/trades> <https://permid.org/1-8589980998> ."
   ]
  },
  {
   "cell_type": "code",
   "execution_count": 81,
   "metadata": {
    "collapsed": false
   },
   "outputs": [
    {
     "name": "stdout",
     "output_type": "stream",
     "text": [
      "Response code is 200\n",
      "{\"id\":154,\"name\":\"CorpAction1\",\"uri\":\"http://rdf.entagen.com/context/1474011354459/CorpAction1\",\"lastBatchReceived\":null,\"predicates\":[{\"id\":17639,\"uri\":\"http://www.w3.org/1999/02/22-rdf-syntax-ns#type\"},{\"id\":17658,\"uri\":\"http://account.thomsonreuters.com/2016-10-16/CorporateActionDate\"},{\"id\":17667,\"uri\":\"http://pred.thomsonreuters.com/account/trades\"},{\"id\":17641,\"uri\":\"http://sg.thomsonreuters.com/account/pred/acc_ccy\"},{\"id\":17652,\"uri\":\"http://account.thomsonreuters.com/2016-10-28/CorporateActionDate\"},{\"id\":17662,\"uri\":\"http://account.thomsonreuters.com/2016-10-19/CorporateActionDate\"},{\"id\":17644,\"uri\":\"http://account.thomsonreuters.com/2016-10-29/CorporateActionDate\"},{\"id\":17647,\"uri\":\"http://account.thomsonreuters.com/2016-10-31/CorporateActionDate\"},{\"id\":17648,\"uri\":\"http://account.thomsonreuters.com/2016-10-21/CorporateActionDate\"},{\"id\":17656,\"uri\":\"http://account.thomsonreuters.com/2016-10-20/CorporateActionDate\"},{\"id\":17660,\"uri\":\"http://account.thomsonreuters.com/2016-10-22/CorporateActionDate\"},{\"id\":17640,\"uri\":\"http://www.w3.org/2000/01/rdf-schema#label\"},{\"id\":17657,\"uri\":\"http://account.thomsonreuters.com/2016-10-26/CorporateActionDate\"},{\"id\":17642,\"uri\":\"http://sg.thomsonreuters.com/account/pred/acc_type\"},{\"id\":17650,\"uri\":\"http://account.thomsonreuters.com/2016-10-15/CorporateActionDate\"},{\"id\":17654,\"uri\":\"http://account.thomsonreuters.com/2016-10-18/CorporateActionDate\"},{\"id\":17651,\"uri\":\"http://account.thomsonreuters.com/2016-10-23/CorporateActionDate\"},{\"id\":17649,\"uri\":\"http://account.thomsonreuters.com/2016-10-17/CorporateActionDate\"},{\"id\":17638,\"uri\":\"http://sg.thomsonreuters.com/account/pred/acc_close\"},{\"id\":17645,\"uri\":\"http://account.thomsonreuters.com/2016-10-27/CorporateActionDate\"},{\"id\":17655,\"uri\":\"http://account.thomsonreuters.com/2016-10-30/CorporateActionDate\"},{\"id\":17643,\"uri\":\"http://sg.thomsonreuters.com/account/pred/acc_open\"},{\"id\":17661,\"uri\":\"http://account.thomsonreuters.com/2016-10-24/CorporateActionDate\"},{\"id\":17668,\"uri\":\"http://instru.thomsonreuters.com/pred/ccy\"},{\"id\":17669,\"uri\":\"http://instru.thomsonreuters.com/pred/price\"},{\"id\":17653,\"uri\":\"http://account.thomsonreuters.com/CorporateActionType\"},{\"id\":17659,\"uri\":\"https://permid.org/PermIdLink\"},{\"id\":17646,\"uri\":\"http://account.thomsonreuters.com/2016-10-25/CorporateActionDate\"}],\"rdfTypes\":[{\"id\":2377,\"uri\":\"http://rdf.entagen.com/ns/type/account\",\"shortName\":\"account\",\"totalCount\":3,\"mappedLabelCount\":1,\"mappedStitchValueCount\":0,\"mappedEntityTypeId\":23},{\"id\":2378,\"uri\":\"http://rdf.entagen.com/ns/type/corporateaction\",\"shortName\":\"corporateaction\",\"totalCount\":14,\"mappedLabelCount\":1,\"mappedStitchValueCount\":0,\"mappedEntityTypeId\":null}],\"remoteContextUri\":null,\"jdbcRepository\":null}\n"
     ]
    }
   ],
   "source": [
    "def createRDF_positions(fname):\n",
    "    fhand = open(fname)\n",
    "    df = pd.read_csv(fhand, sep=\",\")\n",
    "    suburi = \"<http://sg.thomsonreuters.com/account/#\"\n",
    "    fhand.close()\n",
    "    \n",
    "    jsonout = \"\"    \n",
    "    for rid, val in df.iterrows():\n",
    "        jsontemp = suburi + val[\"Account\"] + \"> \"\n",
    "        jsontemp = jsontemp + \"<http://pred.thomsonreuters.com/account/trades> \"\n",
    "        jsontemp = jsontemp + \"<https://permid.org/1-\" + str(val[\"Instruments_PermID\"]) + \"> .\\n\"\n",
    "        \n",
    "        jsonout = jsonout + jsontemp\n",
    "    \n",
    "    return jsonout      # string output\n",
    "\n",
    "fname_1 = cwd + \"create_positions.csv\"\n",
    "fname_2 = cwd + \"\\\\create_positions.nt\"\n",
    "rdf = open(fname_2, \"r\")\n",
    "\n",
    "res = postfile(url_postfile, rdf , token)\n",
    "rdf.close()"
   ]
  },
  {
   "cell_type": "code",
   "execution_count": 80,
   "metadata": {
    "collapsed": false
   },
   "outputs": [
    {
     "name": "stdout",
     "output_type": "stream",
     "text": [
      "Response code is 500\n",
      "<html>\n",
      "<head>\n",
      "  <meta http-equiv=\"Content-Type\" content=\"text/html; charset=UTF-8\"/>\n",
      "  <title>System Error</title>\n",
      "    <script type=\"text/javascript\" src=\"/app/assets/masterindexmain-db88d49ae75221ec185230bf9645fb6f.js\" ></script>\n",
      "    <link rel=\"stylesheet\" type=\"text/css\" media=\"screen, projection\" href=\"/app/assets/masterindexmain-ef873964055ae49fcdd35bf798c594a6.css\"/>\n",
      "</head>\n",
      "<body>\n",
      "\n",
      "<div class=\"navbar navbar-fixed-top\">\n",
      "    <div class=\"navbar-inner\">\n",
      "        <div class=\"container-fluid\">\n",
      "            <a class=\"btn btn-navbar\" data-toggle=\"collapse\" data-target=\".nav-collapse\">\n",
      "                <span class=\"icon-bar\"></span>\n",
      "                <span class=\"icon-bar\"></span>\n",
      "                <span class=\"icon-bar\"></span>\n",
      "            </a>\n",
      "            <a class=\"brand header-logo\" href=\"/app/generation/index\"><img src=\"/app/assets/branding/tr_white-072772b5ff66bfa74492076816cc6406.svg\" height=\"41\" width=\"152\"/> </a>\n",
      "\n",
      "            <div class=\"nav-collapse\">\n",
      "                <ul class=\"nav pull-left\">\n",
      "                    <form action=\"/app/entity/search\" method=\"get\" class=\"navbar-search\" >\n",
      "                        <li><input name=\"searchString\" type=\"text\" class=\"search-query span3\" placeholder=\"Search\" value=\"\"></li>\n",
      "                    </form>\n",
      "                </ul>\n",
      "                <ul class=\"nav pull-right\">\n",
      "                    <li class=\"dropdown\"><a class=\"dropdown-toggle\" data-toggle=\"dropdown\" href=\"#\"><i class=\"el el-graph\"></i> Data Management <i class=\"icon-caret-down\"></i></a>\n",
      "                        <ul class=\"dropdown-menu\">\n",
      "                            <li><a href=\"/app/entityType/list\"><i class=\"icon-th icon-fixed-width\"></i> Master Entity Types</a></li>\n",
      "                            <li><a href=\"/app/generation/settings\"><i class=\"icon-magic icon-fixed-width\"></i> Stitching</a></li>\n",
      "                            <li><a href=\"/app/queryField/index\"><i class=\"icon-bullseye icon-fixed-width\"></i> Query Fields</a></li>\n",
      "                            <li><a href=\"/app/filterableProperty/index\"><i class=\"icon-list icon-fixed-width\"></i> Search Facets</a></li>\n",
      "                            <li class=\"divider\"></li>\n",
      "                            <li><a href=\"/app/template/index\"><i class=\"icon-camera icon-fixed-width\"></i> Templates</a></li>\n",
      "                            <li><a href=\"/app/report/index\"><i class=\"icon-bar-chart icon-fixed-width\"></i> Reports</a></li>\n",
      "                            <li><a href=\"/app/exportRdf/index\"><i class=\"icon-download-alt icon-fixed-width\"></i> Data Export</a></li>\n",
      "                            \n",
      "                            <li class=\"divider\"></li>\n",
      "                            <li><a href=\"/app/sparqlQuery/index\" ><i class=\"icon-search icon-fixed-width\"></i> SPARQL Query</a></li>\n",
      "                            <li class=\"divider\"></li>\n",
      "                            <li><a href=\"https://dds-test.thomsonreuters.com/app/api/\" target=\"_blank\"><i class=\"icon-book icon-fixed-width\"></i> API Documentation</a></li>\n",
      "                        </ul>\n",
      "                    </li>\n",
      "                    <li class=\"dropdown\"><a class=\"dropdown-toggle\" data-toggle=\"dropdown\" href=\"#\"><i class=\"icon-cogs\"></i> Settings <i class=\"icon-caret-down\"></i></a>\n",
      "                        <ul class=\"dropdown-menu\">\n",
      "                            <li><a href=\"/app/user/list\"><i class=\"icon-user icon-fixed-width\"></i> Users</a></li>\n",
      "                            <li><a href=\"/app/proxy/list\"><i class=\"icon-sitemap icon-fixed-width\"></i> Proxy</a></li>\n",
      "                            <li><a href=\"/app/license/list\"><i class=\"icon-briefcase icon-fixed-width\"></i> Licensing</a></li>\n",
      "                            \n",
      "                            <li class=\"divider\"></li>\n",
      "                            <li><a href=\"/app/user/contact\"><i class=\"icon-comment icon-fixed-width\"></i> Notify Users</a></li>\n",
      "                        </ul>\n",
      "                    </li>\n",
      "                    \n",
      "\n",
      "\n",
      "    <script type=\"text/javascript\">\r\n",
      "\n",
      "            jQuery(function() {\n",
      "                log(\"Logout warning will pop up with 57600 seconds of activity and will give 60 seconds till auto-logout\");\n",
      "                var idleTimeOutDiv = \"<div id='idletimeout'>\" +\n",
      "                                          \"You will be logged off in <span><!-- countdown place holder --></span>&nbsp;seconds due to inactivity. \" +\n",
      "                                          \"<a id='idletimeout-resume' href='#'> Click here to continue using this web page</a>.\" +\n",
      "                                     \"</div>\";\n",
      "                jQuery(\".navbar\").prepend(idleTimeOutDiv);\n",
      "\n",
      "                jQuery.idleTimeout('#idletimeout', '#idletimeout a', {\n",
      "                    idleAfter: 57600,\n",
      "                    pollingInterval: 840,\n",
      "                    warningLength: 60,\n",
      "                    keepAliveURL: '/app/ping',\n",
      "                    serverResponseEquals: 'OK',\n",
      "                    onTimeout: function(){\n",
      "                        jQuery(this).slideUp();\n",
      "                        window.location = \"/app/logout/timeout\";\n",
      "                    },\n",
      "                    onIdle: function(){\n",
      "                        jQuery(this).slideDown(); // show the warning bar\n",
      "                    },\n",
      "                    onCountdown: function( counter ){\n",
      "                        jQuery(this).find(\"span\").html( counter ); // update the counter\n",
      "                    },\n",
      "                    onResume: function(){\n",
      "                        jQuery(this).slideUp(); // hide the warning bar\n",
      "                    }\n",
      "                });\n",
      "            });\n",
      "            \r\n",
      "</script>\r\n",
      "\n",
      "\n",
      "    \n",
      "        \n",
      "        <ul class=\"nav pull-right\">\n",
      "            \n",
      "\n",
      "            \n",
      "\n",
      "            \n",
      "                <li class=\"dropdown\">\n",
      "                    <a class=\"dropdown-toggle\" data-toggle=\"dropdown\" href=\"#\">\n",
      "                        <i class=\"icon-user\"></i> <i class=\"icon-caret-down\"></i>\n",
      "                    </a>\n",
      "                    <ul class=\"dropdown-menu\">\n",
      "                        \n",
      "                            <li><a href=\"/explorer/\"><i class=\"icon-share-alt\"></i> Data Explorer</a></li>\n",
      "                        \n",
      "                        \n",
      "                        <li class=\"divider\"></li>\n",
      "                        <li><a href=\"/app/logout/index\">Logout</a></li>\n",
      "                    </ul>\n",
      "                </li>\n",
      "            \n",
      "        </ul>\n",
      "    \n",
      "\n",
      "\n",
      "\n",
      "\n",
      "\n",
      "\n",
      "                </ul>\n",
      "            </div>\n",
      "        </div>\n",
      "    </div>\n",
      "</div>\n",
      "<div class=\"container-fluid\">\n",
      "    <div class=\"page-header\">\n",
      "        <h1>Ooops...</h1>\n",
      "        <p>The Data Fusion server has encountered an unexpected problem.</p>\n",
      "\n",
      "        <p>You can create an error report by clicking the submit button below. This will automatically create a ticket\n",
      "        in our support system. If you are not yet registered in our support system, you will receive an invitation to\n",
      "        register and track the ticket.</p>\n",
      "    </div>\n",
      "\n",
      "    <div class=\"well\">\n",
      "        <form action=\"/app/feedback/emailErrorReport\" method=\"post\" class=\"form-horizontal\" >\n",
      "            <fieldset>\n",
      "                <label class=\"control-label\">Comments</label>\n",
      "                <textarea style=\"width: 100%; height: 100px;\" name=\"userComments\"></textarea>\n",
      "                <div class=\"control-group\">\n",
      "                    <div class=\"controls\">\n",
      "                        <a href=\"#\" onclick=\"$('#details').toggle(); return false;\">Show Report Contents</a>\n",
      "                    </div>\n",
      "                </div>\n",
      "                <div class=\"control-group\" id=\"details\" style=\"display: none;\">\n",
      "                    <div class=\"controls\">\n",
      "                        <textarea style=\"width: 100%; height: 250px; background-color: white; border: 1px solid #d0d0d0; color: #666;\" name=\"errorDetails\" readonly>\n",
      "                            \n",
      "==========================================================\n",
      "Error Details for https://dds-test.thomsonreuters.com/app\n",
      "\n",
      "Time when error occurred: Fri Sep 16 03:39:49 CDT 2016\n",
      "\n",
      "Error 500: Error from server at http://10.216.43.5:8081/extera-search/annotation: Point must be in &#39;lat, lon&#39; or &#39;x y&#39; format: -1\n",
      "Build Date: Tue Sep 06 12:30:46 CDT 2016\n",
      "Build Number: \n",
      "Build Id: 20\n",
      "SCM Version: a5438d43626c71940ae92e0a1a75538e335a5466\n",
      "Build Tag: jenkins-TripleMap-war-release_2016_08_08-20\n",
      "Branch: origin/release/2016_08_08\n",
      "URI: /app/api/annotation/bulk\n",
      "\n",
      "Exception Message: Error from server at http://10.216.43.5:8081/extera-search/annotation: Point must be in &#39;lat, lon&#39; or &#39;x y&#39; format: -1\n",
      "Caused by: Error from server at http://10.216.43.5:8081/extera-search/annotation: Point must be in &#39;lat, lon&#39; or &#39;x y&#39; format: -1\n",
      "Class: RestLogoutFilter\n",
      "At Line: [80]\n",
      "\n",
      "\n",
      "\n",
      "Stack Trace\n",
      "org.apache.solr.client.solrj.impl.HttpSolrClient$RemoteSolrException: Error from server at http://10.216.43.5:8081/extera-search/annotation: Point must be in &#39;lat, lon&#39; or &#39;x y&#39; format: -1\r\n",
      "\tat org.apache.solr.client.solrj.impl.HttpSolrClient.executeMethod(HttpSolrClient.java:577)\r\n",
      "\tat org.apache.solr.client.solrj.impl.HttpSolrClient.request(HttpSolrClient.java:241)\r\n",
      "\tat org.apache.solr.client.solrj.impl.HttpSolrClient.request(HttpSolrClient.java:230)\r\n",
      "\tat org.apache.solr.client.solrj.impl.LBHttpSolrClient.doRequest(LBHttpSolrClient.java:372)\r\n",
      "\tat org.apache.solr.client.solrj.impl.LBHttpSolrClient.request(LBHttpSolrClient.java:325)\r\n",
      "\tat org.apache.solr.client.solrj.impl.CloudSolrClient.directUpdate(CloudSolrClient.java:642)\r\n",
      "\tat org.apache.solr.client.solrj.impl.CloudSolrClient.sendRequest(CloudSolrClient.java:981)\r\n",
      "\tat org.apache.solr.client.solrj.impl.CloudSolrClient.requestWithRetryOnStaleState(CloudSolrClient.java:870)\r\n",
      "\tat org.apache.solr.client.solrj.impl.CloudSolrClient.request(CloudSolrClient.java:806)\r\n",
      "\tat org.apache.solr.client.solrj.SolrRequest.process(SolrRequest.java:149)\r\n",
      "\tat org.apache.solr.client.solrj.SolrClient.add(SolrClient.java:173)\r\n",
      "\tat org.apache.solr.client.solrj.SolrClient.add(SolrClient.java:138)\r\n",
      "\tat org.apache.solr.client.solrj.SolrClient.add(SolrClient.java:152)\r\n",
      "\tat com.entagen.masterindex.AnnotationService.save(AnnotationService.groovy:30)\r\n",
      "\tat com.entagen.masterindex.api.AnnotationController.saveBulk(AnnotationController.groovy:91)\r\n",
      "\tat grails.plugin.cache.web.filter.PageFragmentCachingFilter.doFilter(PageFragmentCachingFilter.java:198)\r\n",
      "\tat grails.plugin.cache.web.filter.AbstractFilter.doFilter(AbstractFilter.java:63)\r\n",
      "\tat grails.plugin.springsecurity.rest.RestTokenValidationFilter.processFilterChain(RestTokenValidationFilter.groovy:118)\r\n",
      "\tat grails.plugin.springsecurity.rest.RestTokenValidationFilter.doFilter(RestTokenValidationFilter.groovy:84)\r\n",
      "\tat grails.plugin.springsecurity.web.filter.GrailsAnonymousAuthenticationFilter.doFilter(GrailsAnonymousAuthenticationFilter.java:53)\r\n",
      "\tat grails.plugin.springsecurity.rest.RestAuthenticationFilter.doFilter(RestAuthenticationFilter.groovy:143)\r\n",
      "\tat grails.plugin.springsecurity.web.authentication.logout.MutableLogoutFilter.doFilter(MutableLogoutFilter.java:62)\r\n",
      "\tat grails.plugin.springsecurity.rest.RestLogoutFilter.doFilter(RestLogoutFilter.groovy:80)\r\n",
      "\tat grails.plugin.springsecurity.web.SecurityRequestHolderFilter.doFilter(SecurityRequestHolderFilter.java:59)\r\n",
      "\tat org.tuckey.web.filters.urlrewrite.RuleChain.handleRewrite(RuleChain.java:176)\r\n",
      "\tat org.tuckey.web.filters.urlrewrite.RuleChain.doRules(RuleChain.java:145)\r\n",
      "\tat org.tuckey.web.filters.urlrewrite.UrlRewriter.processRequest(UrlRewriter.java:92)\r\n",
      "\tat org.tuckey.web.filters.urlrewrite.UrlRewriteFilter.doFilter(UrlRewriteFilter.java:381)\r\n",
      "\tat com.randomcoder.security.DisableUrlSessionFilter.doFilter(DisableUrlSessionFilter.java:79)\r\n",
      "\tat com.brandseye.cors.CorsFilter.doFilter(CorsFilter.java:82)\r\n",
      "\tat java.util.concurrent.ThreadPoolExecutor.runWorker(ThreadPoolExecutor.java:1142)\r\n",
      "\tat java.util.concurrent.ThreadPoolExecutor$Worker.run(ThreadPoolExecutor.java:617)\r\n",
      "\tat java.lang.Thread.run(Thread.java:745)\r\n",
      "\n",
      "\n",
      "\n",
      "User Details:\n",
      "Name: eric.tham&#64;thomsonreuters.com\n",
      "Email: eric.tham&#64;thomsonreuters.com\n",
      "Roles: [ROLE_ADMIN]\n",
      "\n",
      "                        </textarea>\n",
      "                    </div>\n",
      "                </div>\n",
      "\n",
      "                <div class=\"form-actions\">\n",
      "                    <input type=\"submit\" name=\"submit\" value=\"Submit\" class=\"btn btn-primary\" id=\"submit\" />\n",
      "                    \n",
      "                </div>\n",
      "            </fieldset>\n",
      "        </form>\n",
      "    </div>\n",
      "</div>\n",
      "<script type=\"text/javascript\" src=\"/app/assets/masterindexsecond-9d83b6d434427b7f25698d13b0a2c079.js\" ></script>\n",
      "\n",
      "</body>\n",
      "</html>\n",
      "\n"
     ]
    }
   ],
   "source": [
    "def createAnnotate(fname):\n",
    "    fhand = open(fname)\n",
    "    df = pd.read_csv(fhand, sep=\",\")\n",
    "    fhand.close()\n",
    "    \n",
    "    subjecturi = \"<http://sg.thomsonreuters.com/account/#\"\n",
    "    predicateUri = \"<https://permid.org/PermIdLink>\"  # doesn't end with \"/\"\n",
    "    objectUri = \"<https://permid.org/1-\"\n",
    "    \n",
    "    items = []\n",
    "    \n",
    "    for rid, val in df.iterrows():\n",
    "        annotate = {}\n",
    "        annotate[\"subject\"]= subjecturi + val[\"Account\"] + \">\"\n",
    "        annotate[\"predicate\"]= predicateUri\n",
    "        annotate[\"object\"]= objectUri + str(val[\"Instruments_PermID\"]) + \">\"\n",
    "        annotate[\"score\"]= -1\n",
    "        annotate[\"activeRange\"]= -1     # this is will be the life of the instrument in the account\n",
    "        properties={\"Qty\" : {\"value\": str(val[\"Qty\"]) , \"type\": \"NUMBER\"} }\n",
    "\n",
    "        annotate[\"properties\"]= properties\n",
    "        items.append(annotate)\n",
    "    \n",
    "    annotatejson = {\"items\" : items}\n",
    "       \n",
    "    return annotatejson \n",
    "\n",
    "def postannotate(annotate, token_DF):   \n",
    "    url = \"https://dds-test.thomsonreuters.com/app/api/annotation/bulk\"\n",
    "    headers = {'Content-Type': 'application/json', 'Accept': 'text/plain', 'Authorization' : 'Bearer ' + token_DF }\n",
    "    response = requests.post(url, data = json.dumps(annotate), headers=headers, verify = False) #, data =values)\n",
    "    print \"Response code is \" + str(response.status_code)# response code if ok should be \n",
    "    print response.text\n",
    "\n",
    "fname_1 = cwd + \"\\\\create_positions.csv\"\n",
    "fname_3 = cwd + \"trade_annotate.json\"\n",
    "annotate = createAnnotate(fname_1)\n",
    "fhand_3 = open(fname_3, \"w\")\n",
    "\n",
    "json.dump(annotate, fhand_3)\n",
    "fhand_3.close()\n",
    "\n",
    "postannotate(annotate, token)"
   ]
  },
  {
   "cell_type": "code",
   "execution_count": null,
   "metadata": {
    "collapsed": true
   },
   "outputs": [],
   "source": []
  }
 ],
 "metadata": {
  "kernelspec": {
   "display_name": "Python 2",
   "language": "python",
   "name": "python2"
  },
  "language_info": {
   "codemirror_mode": {
    "name": "ipython",
    "version": 2
   },
   "file_extension": ".py",
   "mimetype": "text/x-python",
   "name": "python",
   "nbconvert_exporter": "python",
   "pygments_lexer": "ipython2",
   "version": "2.7.12"
  }
 },
 "nbformat": 4,
 "nbformat_minor": 0
}
